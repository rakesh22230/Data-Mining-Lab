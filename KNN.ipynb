{
  "nbformat": 4,
  "nbformat_minor": 0,
  "metadata": {
    "colab": {
      "provenance": [],
      "authorship_tag": "ABX9TyNd9IlVMWMTIwwJYkrbDdnq",
      "include_colab_link": true
    },
    "kernelspec": {
      "name": "python3",
      "display_name": "Python 3"
    },
    "language_info": {
      "name": "python"
    }
  },
  "cells": [
    {
      "cell_type": "markdown",
      "metadata": {
        "id": "view-in-github",
        "colab_type": "text"
      },
      "source": [
        "<a href=\"https://colab.research.google.com/github/rakesh22230/Data-Mining-Lab/blob/main/KNN.ipynb\" target=\"_parent\"><img src=\"https://colab.research.google.com/assets/colab-badge.svg\" alt=\"Open In Colab\"/></a>"
      ]
    },
    {
      "cell_type": "code",
      "source": [
        "training_data = [\n",
        "    [1, 1],\n",
        "    [2, 1],\n",
        "    [1, 2],\n",
        "    [8, 8],\n",
        "    [9, 8],\n",
        "    [8, 9],\n",
        "    [4, 6],\n",
        "    [5, 5],\n",
        "    [6, 4]\n",
        "]\n",
        "\n",
        "training_labels = ['Red', 'Red', 'Red', 'Green', 'Green', 'Green', 'Blue', 'Blue', 'Blue']\n",
        "\n",
        "test_point = [5, 6]\n",
        "k = 3\n",
        "\n",
        "import numpy as np\n",
        "from collections import Counter\n",
        "\n",
        "def euclidean_distance(point1, point2):\n",
        "    point1 = np.array(point1)\n",
        "    point2 = np.array(point2)\n",
        "    return np.sqrt(np.sum((point1 - point2) ** 2))\n",
        "\n",
        "def knn_predict(training_data, training_labels, test_point, k):\n",
        "    distances = []\n",
        "    for i in range(len(training_data)):\n",
        "        dist = euclidean_distance(test_point, training_data[i])\n",
        "        distances.append((dist, training_labels[i]))\n",
        "\n",
        "    distances.sort(key=lambda x: x[0])\n",
        "    k_nearest_labels = [label for (_, label) in distances[:k]]\n",
        "    most_common_label = Counter(k_nearest_labels).most_common(1)[0][0]\n",
        "    return most_common_label\n",
        "\n",
        "prediction = knn_predict(training_data, training_labels, test_point, k)\n",
        "print(\"The predicted label for\", test_point, \"is:\", prediction)\n"
      ],
      "metadata": {
        "colab": {
          "base_uri": "https://localhost:8080/"
        },
        "id": "c8mXBBIIytpE",
        "outputId": "ef6de745-45cf-42fb-e0b3-f48009df1ad4"
      },
      "execution_count": 11,
      "outputs": [
        {
          "output_type": "stream",
          "name": "stdout",
          "text": [
            "The predicted label for [5, 6] is: Blue\n"
          ]
        }
      ]
    }
  ]
}